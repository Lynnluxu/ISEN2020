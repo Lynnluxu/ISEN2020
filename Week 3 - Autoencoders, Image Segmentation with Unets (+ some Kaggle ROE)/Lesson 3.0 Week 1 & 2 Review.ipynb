{
 "cells": [
  {
   "cell_type": "markdown",
   "metadata": {},
   "source": [
    "#### What technique do you use when you want to downsample your input from layer to layer using convolutions ?"
   ]
  },
  {
   "cell_type": "markdown",
   "metadata": {},
   "source": [
    "#### What happens in softmax ? What happens in Negative Log Likelihood ? What do we get when we combine the two ? "
   ]
  },
  {
   "cell_type": "markdown",
   "metadata": {},
   "source": [
    "#### To recognize the faces of two different persons, somebody (actually an AI researcher) proposed to his friend to calculate the distance (for example, the L2 distance) between the pixels... How would that work (how would you do it ?) ? What do you think of that idea ?"
   ]
  },
  {
   "cell_type": "markdown",
   "metadata": {},
   "source": [
    "#### Can you explain what vanishing gradient is and why it happens in a RNN? "
   ]
  },
  {
   "cell_type": "markdown",
   "metadata": {},
   "source": [
    "#### When should you use a RNN, when should you use a LSTM ?"
   ]
  },
  {
   "cell_type": "code",
   "execution_count": null,
   "metadata": {},
   "outputs": [],
   "source": []
  }
 ],
 "metadata": {
  "kernelspec": {
   "display_name": "Python 3",
   "language": "python",
   "name": "python3"
  },
  "language_info": {
   "codemirror_mode": {
    "name": "ipython",
    "version": 3
   },
   "file_extension": ".py",
   "mimetype": "text/x-python",
   "name": "python",
   "nbconvert_exporter": "python",
   "pygments_lexer": "ipython3",
   "version": "3.7.4"
  }
 },
 "nbformat": 4,
 "nbformat_minor": 2
}
