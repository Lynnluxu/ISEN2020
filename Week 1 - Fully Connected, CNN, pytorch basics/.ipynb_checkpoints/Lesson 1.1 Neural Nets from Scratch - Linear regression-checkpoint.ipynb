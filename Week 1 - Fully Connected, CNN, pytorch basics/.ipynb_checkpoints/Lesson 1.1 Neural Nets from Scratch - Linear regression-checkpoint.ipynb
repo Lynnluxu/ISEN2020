{
 "cells": [
  {
   "cell_type": "markdown",
   "metadata": {},
   "source": [
    "<h1 style='text-align: center; color: lightblue; font-size: 40px'> Neural Nets from scratch </h1>\n",
    "<h2 style='text-align: center; color: lightblue; font-size: 30px'> Linear regression </h2>"
   ]
  },
  {
   "cell_type": "code",
   "execution_count": 1,
   "metadata": {
    "scrolled": true
   },
   "outputs": [],
   "source": [
    "%load_ext pycodestyle_magic\n",
    "%flake8_on"
   ]
  },
  {
   "cell_type": "code",
   "execution_count": 2,
   "metadata": {},
   "outputs": [],
   "source": [
    "import pandas as pd\n",
    "import numpy as np\n",
    "import torch\n",
    "import math\n",
    "from functools import partial\n",
    "import matplotlib.pyplot as plt"
   ]
  },
  {
   "cell_type": "markdown",
   "metadata": {},
   "source": [
    "# who knows how to perform linear regression using gradient descent ?\n",
    "Figure together the pseudo code"
   ]
  },
  {
   "cell_type": "markdown",
   "metadata": {},
   "source": [
    "#Pseudo code:\n",
    "#g\n",
    "#i\n",
    "#t\n",
    "    #m\n",
    "    #c\n",
    "    #b\n",
    "    #u"
   ]
  },
  {
   "cell_type": "markdown",
   "metadata": {},
   "source": [
    "#### Pseudo code answer:"
   ]
  },
  {
   "cell_type": "markdown",
   "metadata": {},
   "source": [
    "* get the data\n",
    "* initialize weights\n",
    "* train: for each epoch:\n",
    "* * make predictions\n",
    "* * compute the loss\n",
    "* * backpropagate the loss\n",
    "* * update the gradients"
   ]
  },
  {
   "cell_type": "markdown",
   "metadata": {},
   "source": [
    "# who can code it ? \n",
    "Create data that follow the function y=3x+2. Then figure a way to find back these parameters using gradient descent."
   ]
  },
  {
   "cell_type": "markdown",
   "metadata": {},
   "source": [
    "## Help: math equations for gradient calculation"
   ]
  },
  {
   "cell_type": "markdown",
   "metadata": {},
   "source": [
    "\\begin{array}{c}\n",
    "{M S E=\\frac{1}{N} \\sum_{i=1}^{N}\\left(y_{i}-\\hat{y}_{i}\\right)^{2}} \\\\\n",
    "{M S E=\\frac{1}{N} \\sum_{i=1}^{N}\\left(y_{i}-(a x_{i} + b ) \\right)^{2}} \\\\\n",
    "{M S E=\\frac{1}{N} \\sum_{i=1}^{N}\\left(y_{i}-a x_{i} - b\\right)^{2}}\n",
    "\\end{array}\n",
    "\n",
    "\n"
   ]
  },
  {
   "cell_type": "markdown",
   "metadata": {},
   "source": [
    "\\begin{aligned}\n",
    "\\frac{\\partial M S E}{\\partial a} &=\\frac{\\partial M S E}{\\partial \\hat{y}_{i}} \\cdot \\frac{\\partial \\hat{y}_{i}}{\\partial a}=\\frac{1}{N} \\sum_{i=1}^{N} 2\\left(y_{i}-a x_{i} - b\\right) \\cdot(-1)=-2 \\frac{1}{N} \\sum_{i=1}^{N}\\left(y_{i}-\\hat{y}_{i}\\right)* \\\\\n",
    "\\frac{\\partial M S E}{\\partial b} &=\\frac{\\partial M S E}{\\partial \\hat{y}_{i}} \\cdot \\frac{\\partial \\hat{y}_{i}}{\\partial b}=\\frac{1}{N} \\sum_{i=1}^{N} 2\\left(y_{i}-a x_{i} - b\\right) \\cdot\\left(-x_{i}\\right)=-2 \\frac{1}{N} \\sum_{i=1}^{N} x_{i}\\left(y_{i}-\\hat{y}_{i}\\right) **\n",
    "\\end{aligned}\n",
    "*the mean of errors\n",
    "\n",
    "\\**the mean of (errors * xi)"
   ]
  },
  {
   "cell_type": "markdown",
   "metadata": {},
   "source": [
    "## Numpy solution"
   ]
  },
  {
   "cell_type": "code",
   "execution_count": 3,
   "metadata": {
    "scrolled": true
   },
   "outputs": [
    {
     "data": {
      "text/plain": [
       "<matplotlib.collections.PathCollection at 0x7fc1d4553750>"
      ]
     },
     "execution_count": 3,
     "metadata": {},
     "output_type": "execute_result"
    },
    {
     "data": {
      "image/png": "[encoded data removed]",
      "text/plain": [
       "<Figure size 432x288 with 1 Axes>"
      ]
     },
     "metadata": {
      "needs_background": "light"
     },
     "output_type": "display_data"
    }
   ],
   "source": [
    "import numpy as np\n",
    "import matplotlib.pyplot as plt\n",
    "# get data\n",
    "x = np.random.rand(300)\n",
    "y = 3 * x + 2 + (np.random.randn(300) * 0.05)\n",
    "\n",
    "plt.scatter(x, y)"
   ]
  },
  {
   "cell_type": "code",
   "execution_count": 4,
   "metadata": {},
   "outputs": [
    {
     "name": "stdout",
     "output_type": "stream",
     "text": [
      "4.409856631247766\n",
      "2.850800925264753\n",
      "1.8435595167846963\n",
      "1.1928308334103395\n",
      "0.7724359132018679\n",
      "0.5008540150826942\n",
      "0.32541684862774445\n",
      "0.21209690003640536\n",
      "0.13890995001557366\n",
      "0.09165262179684963\n",
      "0.06114852799510828\n",
      "0.04146908174724245\n",
      "0.02878401167494386\n",
      "0.020618711194820498\n",
      "0.01537443232779409\n",
      "0.01201829612150593\n",
      "0.00988301692333058\n",
      "0.008537509759877639\n",
      "0.007703293345689063\n",
      "0.00720048039105948\n"
     ]
    }
   ],
   "source": [
    "# initialize parameters (at first, we believe a=1 and b=1)\n",
    "a = 1.\n",
    "b = 1.\n",
    "\n",
    "# train:\n",
    "for epoch in range(2000):\n",
    "    # make predictions\n",
    "    y_hat = a * x + b\n",
    "\n",
    "    # compute the loss\n",
    "    errors = (y - y_hat)\n",
    "    loss = (errors ** 2).mean()\n",
    "\n",
    "    # print the loss to ensure training is going well:\n",
    "    if epoch % 100 == 0:\n",
    "        print(loss)\n",
    "\n",
    "    # backpropagate the loss\n",
    "    a_grad = -2 * errors.mean()\n",
    "    b_grad = -2 * (x * errors).mean()\n",
    "\n",
    "    # update parameters\n",
    "    a -= a_grad * 0.001  # Try with and without the learning rate ;)\n",
    "    b = b - b_grad * 0.001"
   ]
  },
  {
   "cell_type": "code",
   "execution_count": 5,
   "metadata": {},
   "outputs": [
    {
     "name": "stdout",
     "output_type": "stream",
     "text": [
      "2.7862951476946507 2.1009770824110214\n"
     ]
    }
   ],
   "source": [
    "print(a, b)"
   ]
  },
  {
   "cell_type": "code",
   "execution_count": 6,
   "metadata": {},
   "outputs": [
    {
     "data": {
      "text/plain": [
       "[<matplotlib.lines.Line2D at 0x7fc1d45ee510>]"
      ]
     },
     "execution_count": 6,
     "metadata": {},
     "output_type": "execute_result"
    },
    {
     "data": {
      "image/png": "[encoded data removed]",
      "text/plain": [
       "<Figure size 432x288 with 1 Axes>"
      ]
     },
     "metadata": {
      "needs_background": "light"
     },
     "output_type": "display_data"
    }
   ],
   "source": [
    "y_pred = a * x + b\n",
    "plt.scatter(x, y)\n",
    "plt.plot(x, y_pred, color=\"red\")"
   ]
  },
  {
   "cell_type": "markdown",
   "metadata": {},
   "source": [
    "# Why pytorch ?"
   ]
  },
  {
   "cell_type": "markdown",
   "metadata": {},
   "source": [
    "Pytorch looks a lot like numpy. And it has a lot of advantages. Let's see:"
   ]
  },
  {
   "cell_type": "markdown",
   "metadata": {},
   "source": [
    "## Linear regression with pytorch"
   ]
  },
  {
   "cell_type": "code",
   "execution_count": 7,
   "metadata": {},
   "outputs": [
    {
     "data": {
      "image/png": "[encoded data removed]",
      "text/plain": [
       "<Figure size 432x288 with 1 Axes>"
      ]
     },
     "metadata": {
      "needs_background": "light"
     },
     "output_type": "display_data"
    }
   ],
   "source": [
    "import torch\n",
    "import matplotlib.pyplot as plt\n",
    "\n",
    "# see how close torch is to numpy ?\n",
    "x = torch.rand(300)\n",
    "y = 3 * x + 2 + (torch.randn(300) * 0.05)\n",
    "plt.scatter(x, y)\n",
    "plt.show()"
   ]
  },
  {
   "cell_type": "code",
   "execution_count": 8,
   "metadata": {},
   "outputs": [],
   "source": [
    "a = torch.nn.Parameter(torch.tensor(1.))\n",
    "b = torch.nn.Parameter(torch.tensor(1.))"
   ]
  },
  {
   "cell_type": "code",
   "execution_count": 9,
   "metadata": {},
   "outputs": [
    {
     "data": {
      "text/plain": [
       "[<matplotlib.lines.Line2D at 0x7fc1d4493990>]"
      ]
     },
     "execution_count": 9,
     "metadata": {},
     "output_type": "execute_result"
    },
    {
     "data": {
      "image/png": "[encoded data removed]",
      "text/plain": [
       "<Figure size 432x288 with 1 Axes>"
      ]
     },
     "metadata": {
      "needs_background": "light"
     },
     "output_type": "display_data"
    }
   ],
   "source": [
    "y_pred = (a * x + b).detach().numpy()\n",
    "plt.scatter(x, y)\n",
    "plt.plot(x, y_pred)"
   ]
  },
  {
   "cell_type": "code",
   "execution_count": 10,
   "metadata": {},
   "outputs": [
    {
     "name": "stdout",
     "output_type": "stream",
     "text": [
      "tensor(4.4570, grad_fn=<MeanBackward0>)\n",
      "tensor(0.1064, grad_fn=<MeanBackward0>)\n",
      "tensor(0.0640, grad_fn=<MeanBackward0>)\n",
      "tensor(0.0503, grad_fn=<MeanBackward0>)\n",
      "tensor(0.0398, grad_fn=<MeanBackward0>)\n",
      "tensor(0.0316, grad_fn=<MeanBackward0>)\n",
      "tensor(0.0252, grad_fn=<MeanBackward0>)\n",
      "tensor(0.0202, grad_fn=<MeanBackward0>)\n",
      "tensor(0.0163, grad_fn=<MeanBackward0>)\n",
      "tensor(0.0133, grad_fn=<MeanBackward0>)\n"
     ]
    }
   ],
   "source": [
    "epochs = 10000\n",
    "a = torch.nn.Parameter(torch.tensor(1.))\n",
    "b = torch.nn.Parameter(torch.tensor(1.))\n",
    "\n",
    "for i in range(epochs):\n",
    "    # calculate the preds\n",
    "    y_pred = a * x + b\n",
    "\n",
    "    # calculate the loss\n",
    "    mse = ((y - y_pred) ** 2).mean()\n",
    "    if i % 1000 == 0:\n",
    "        print(mse)\n",
    "\n",
    "    # backward pass:\n",
    "    mse.backward()\n",
    "\n",
    "    # gradient descent:\n",
    "    with torch.no_grad():\n",
    "        a -= a.grad * 0.001\n",
    "        b -= b.grad * 0.001\n",
    "        a.grad.zero_()\n",
    "        b.grad.zero_()"
   ]
  },
  {
   "cell_type": "code",
   "execution_count": 11,
   "metadata": {},
   "outputs": [
    {
     "data": {
      "text/plain": [
       "[<matplotlib.lines.Line2D at 0x7fc1d4331090>]"
      ]
     },
     "execution_count": 11,
     "metadata": {},
     "output_type": "execute_result"
    },
    {
     "data": {
      "image/png": "[encoded data removed]",
      "text/plain": [
       "<Figure size 432x288 with 1 Axes>"
      ]
     },
     "metadata": {
      "needs_background": "light"
     },
     "output_type": "display_data"
    }
   ],
   "source": [
    "y_pred = (a * x + b).detach().numpy()\n",
    "plt.scatter(x, y)\n",
    "plt.plot(x, y_pred, color=\"red\")"
   ]
  },
  {
   "cell_type": "code",
   "execution_count": 12,
   "metadata": {},
   "outputs": [
    {
     "name": "stdout",
     "output_type": "stream",
     "text": [
      "Parameter containing:\n",
      "tensor(2.6821, requires_grad=True) Parameter containing:\n",
      "tensor(2.1738, requires_grad=True)\n"
     ]
    }
   ],
   "source": [
    "print(a, b)"
   ]
  },
  {
   "cell_type": "code",
   "execution_count": null,
   "metadata": {},
   "outputs": [],
   "source": []
  },
  {
   "cell_type": "code",
   "execution_count": null,
   "metadata": {},
   "outputs": [],
   "source": []
  },
  {
   "cell_type": "code",
   "execution_count": 13,
   "metadata": {},
   "outputs": [
    {
     "name": "stdout",
     "output_type": "stream",
     "text": [
      "tensor(2.0330, grad_fn=<MeanBackward0>)\n",
      "tensor(0.7660, grad_fn=<MeanBackward0>)\n",
      "tensor(0.2650, grad_fn=<MeanBackward0>)\n",
      "tensor(0.2091, grad_fn=<MeanBackward0>)\n",
      "tensor(0.1632, grad_fn=<MeanBackward0>)\n",
      "tensor(0.1191, grad_fn=<MeanBackward0>)\n",
      "tensor(0.0827, grad_fn=<MeanBackward0>)\n",
      "tensor(0.0566, grad_fn=<MeanBackward0>)\n",
      "tensor(0.0445, grad_fn=<MeanBackward0>)\n",
      "tensor(0.0412, grad_fn=<MeanBackward0>)\n"
     ]
    }
   ],
   "source": [
    "# Note: MAE\n",
    "epochs = 10000\n",
    "a = torch.nn.Parameter(torch.tensor(1.))\n",
    "b = torch.nn.Parameter(torch.tensor(1.))\n",
    "\n",
    "for i in range(epochs):\n",
    "    # calculate the preds\n",
    "    y_pred = a * x + b\n",
    "\n",
    "    # calculate the loss\n",
    "    mse = (abs(y - y_pred)).mean()\n",
    "    if i % 1000 == 0:\n",
    "        print(mse)\n",
    "\n",
    "    # backward pass:\n",
    "    mse.backward()\n",
    "\n",
    "    # gradient descent:\n",
    "    with torch.no_grad():\n",
    "        a -= a.grad * 0.001\n",
    "        b -= b.grad * 0.001\n",
    "        a.grad.zero_()\n",
    "        b.grad.zero_()"
   ]
  },
  {
   "cell_type": "code",
   "execution_count": 14,
   "metadata": {},
   "outputs": [
    {
     "data": {
      "text/plain": [
       "[<matplotlib.lines.Line2D at 0x7fc1c77dae50>]"
      ]
     },
     "execution_count": 14,
     "metadata": {},
     "output_type": "execute_result"
    },
    {
     "data": {
      "image/png": "[encoded data removed]",
      "text/plain": [
       "<Figure size 432x288 with 1 Axes>"
      ]
     },
     "metadata": {
      "needs_background": "light"
     },
     "output_type": "display_data"
    }
   ],
   "source": [
    "y_pred = (a * x + b).detach().numpy()\n",
    "plt.scatter(x, y)\n",
    "plt.plot(x, y_pred, color=\"red\")"
   ]
  },
  {
   "cell_type": "markdown",
   "metadata": {},
   "source": [
    "### Learn more\n",
    "You'll find another approach that uses more advanced pytorch functionalities <a href=\"https://github.com/fastai/course-v3/blob/master/nbs/dl1/lesson2-sgd.ipynb\"> here</a>, but it requires having the fastai library installed\n"
   ]
  },
  {
   "cell_type": "code",
   "execution_count": 148,
   "metadata": {},
   "outputs": [],
   "source": [
    "# An interesting thing they do differently\n",
    "# is they store a and b in a single vector\n",
    "# And then perform matrix-vector multiplication"
   ]
  },
  {
   "cell_type": "code",
   "execution_count": 150,
   "metadata": {},
   "outputs": [],
   "source": [
    "x = torch.ones(200, 2)\n",
    "a = torch.nn.Parameter(torch.tensor([1., 1.]))"
   ]
  },
  {
   "cell_type": "code",
   "execution_count": 151,
   "metadata": {},
   "outputs": [
    {
     "ename": "RuntimeError",
     "evalue": "size mismatch, m1: [1 x 2], m2: [200 x 2] at /opt/conda/conda-bld/pytorch_1570910687650/work/aten/src/TH/generic/THTensorMath.cpp:197",
     "output_type": "error",
     "traceback": [
      "\u001b[0;31m---------------------------------------------------------------------------\u001b[0m",
      "\u001b[0;31mRuntimeError\u001b[0m                              Traceback (most recent call last)",
      "\u001b[0;32m<ipython-input-151-62c303aa4a0a>\u001b[0m in \u001b[0;36m<module>\u001b[0;34m\u001b[0m\n\u001b[0;32m----> 1\u001b[0;31m \u001b[0ma\u001b[0m \u001b[0;34m@\u001b[0m \u001b[0mx\u001b[0m\u001b[0;34m\u001b[0m\u001b[0;34m\u001b[0m\u001b[0m\n\u001b[0m",
      "\u001b[0;31mRuntimeError\u001b[0m: size mismatch, m1: [1 x 2], m2: [200 x 2] at /opt/conda/conda-bld/pytorch_1570910687650/work/aten/src/TH/generic/THTensorMath.cpp:197"
     ]
    }
   ],
   "source": [
    "a @ x"
   ]
  },
  {
   "cell_type": "code",
   "execution_count": 152,
   "metadata": {},
   "outputs": [
    {
     "data": {
      "text/plain": [
       "tensor([2., 2., 2., 2., 2., 2., 2., 2., 2., 2., 2., 2., 2., 2., 2., 2., 2., 2.,\n",
       "        2., 2., 2., 2., 2., 2., 2., 2., 2., 2., 2., 2., 2., 2., 2., 2., 2., 2.,\n",
       "        2., 2., 2., 2., 2., 2., 2., 2., 2., 2., 2., 2., 2., 2., 2., 2., 2., 2.,\n",
       "        2., 2., 2., 2., 2., 2., 2., 2., 2., 2., 2., 2., 2., 2., 2., 2., 2., 2.,\n",
       "        2., 2., 2., 2., 2., 2., 2., 2., 2., 2., 2., 2., 2., 2., 2., 2., 2., 2.,\n",
       "        2., 2., 2., 2., 2., 2., 2., 2., 2., 2., 2., 2., 2., 2., 2., 2., 2., 2.,\n",
       "        2., 2., 2., 2., 2., 2., 2., 2., 2., 2., 2., 2., 2., 2., 2., 2., 2., 2.,\n",
       "        2., 2., 2., 2., 2., 2., 2., 2., 2., 2., 2., 2., 2., 2., 2., 2., 2., 2.,\n",
       "        2., 2., 2., 2., 2., 2., 2., 2., 2., 2., 2., 2., 2., 2., 2., 2., 2., 2.,\n",
       "        2., 2., 2., 2., 2., 2., 2., 2., 2., 2., 2., 2., 2., 2., 2., 2., 2., 2.,\n",
       "        2., 2., 2., 2., 2., 2., 2., 2., 2., 2., 2., 2., 2., 2., 2., 2., 2., 2.,\n",
       "        2., 2.], grad_fn=<MvBackward>)"
      ]
     },
     "execution_count": 152,
     "metadata": {},
     "output_type": "execute_result"
    }
   ],
   "source": [
    "x @ a"
   ]
  },
  {
   "cell_type": "markdown",
   "metadata": {},
   "source": [
    "To get a visual understanding of matrix-vector (or matrix-matrix) multiplications, <a href=\"http://matrixmultiplication.xyz/\"> visit this link </a>"
   ]
  },
  {
   "cell_type": "markdown",
   "metadata": {},
   "source": [
    "You can find a pytorch tutorial that dives deeply into the autograd and computation graph here <a href=\"https://towardsdatascience.com/understanding-pytorch-with-an-example-a-step-by-step-tutorial-81fc5f8c4e8e\"> here </a>"
   ]
  }
 ],
 "metadata": {
  "kernelspec": {
   "display_name": "Python 3",
   "language": "python",
   "name": "python3"
  },
  "language_info": {
   "codemirror_mode": {
    "name": "ipython",
    "version": 3
   },
   "file_extension": ".py",
   "mimetype": "text/x-python",
   "name": "python",
   "nbconvert_exporter": "python",
   "pygments_lexer": "ipython3",
   "version": "3.7.4"
  }
 },
 "nbformat": 4,
 "nbformat_minor": 2
}
