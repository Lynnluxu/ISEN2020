{
 "cells": [
  {
   "cell_type": "markdown",
   "metadata": {},
   "source": [
    "<h1 style='text-align: center; color: lightblue; font-size: 40px'> Examples of GAN applications </h1>"
   ]
  },
  {
   "cell_type": "markdown",
   "metadata": {},
   "source": [
    "https://machinelearningmastery.com/impressive-applications-of-generative-adversarial-networks/\n",
    "\n",
    "Seriously ?"
   ]
  },
  {
   "cell_type": "markdown",
   "metadata": {},
   "source": [
    "Cas d’usage : Construction d’un Atlas personnalisé sur des données de rides.\n",
    "\n",
    "\n",
    "L’objectif du projet était de pouvoir générer à l’aide d’un GAN des images réalistes de\n",
    "peau en faisant varier le score de rides (intensité de présence de pattes d’oies) à partir d’images\n",
    "de référence tout en prenant en compte l’ethnicité de la personne. Cela permet d’augmenter le\n",
    "jeu de données initial ayant été labellisé manuellement par des experts métier : pouvoir générer\n",
    "automatiquement des images avec des degrés de rides variés et identifiés est un gain précieux\n",
    "de temps pour eux. Une finalité à moyen terme de cet atlas de rides serait d’étudier l’effet d’un\n",
    "makeup sur le vieillissement du visage. La figure 4 ci-dessous montre des résultats obtenus où\n",
    "la colonne la plus à gauche représente des images réelles prises comme point de départ (inputs)\n",
    "côte-à-côte avec des images générées par un GAN conditionnel pour différents scores de rides.\n",
    "Il est à noter qu’un GAN conditionnel est une version supervisée d’un GAN classique où un\n",
    "attribut (par exemple le score de rides) est pris en considération afin d’avoir un niveau de\n",
    "contrôle supplémentaire sur l’image générée."
   ]
  },
  {
   "cell_type": "markdown",
   "metadata": {},
   "source": [
    "<img src='images/ganrides.png'>"
   ]
  },
  {
   "cell_type": "markdown",
   "metadata": {},
   "source": [
    "Cas d’usage : \n",
    "\n",
    "Utilisation d’un GAN afin d’améliorer un modèle de segmentation sémantique.\n",
    "Ce projet s’inscrit dans le cadre d’une segmentation sémantique (voir article 1) des\n",
    "fibres capillaires sur des prises de vues en gros plan du scalp. Pour mémoire, la segmentation\n",
    "sémantique associe chaque pixel d’une image à la catégorie d’objet à laquelle il appartient.\n",
    "Dans notre cas, le modèle segmente sémantiquement selon 5 classes d’éléments : cheveu blanc,\n",
    "cheveu coloré, racine cheveu blanc, racine cheveu coloré, ou scalp (voir figure 5 ci-dessous).\n",
    "Or, le modèle existant manquait d’efficacité – en particulier concernant les cheveux blancs.\n",
    "Nous avons donc opté pour son optimisation en lui permettant d’être entraîné avec plus de\n",
    "données. Comme pour le précédent projet, ces dernières sont générées à l’aide d’un GAN."
   ]
  },
  {
   "cell_type": "markdown",
   "metadata": {},
   "source": [
    "<img src='images/gancheveux.png'>"
   ]
  },
  {
   "cell_type": "markdown",
   "metadata": {},
   "source": [
    "Note: 70% of data science projects are classification; NLP might be the use-case with most potential; what to do with gans ?"
   ]
  },
  {
   "cell_type": "markdown",
   "metadata": {},
   "source": [
    "Super-res and data augmentation are probably the two most useful use cases right now"
   ]
  }
 ],
 "metadata": {
  "kernelspec": {
   "display_name": "Python 3",
   "language": "python",
   "name": "python3"
  },
  "language_info": {
   "codemirror_mode": {
    "name": "ipython",
    "version": 3
   },
   "file_extension": ".py",
   "mimetype": "text/x-python",
   "name": "python",
   "nbconvert_exporter": "python",
   "pygments_lexer": "ipython3",
   "version": "3.7.4"
  }
 },
 "nbformat": 4,
 "nbformat_minor": 2
}
