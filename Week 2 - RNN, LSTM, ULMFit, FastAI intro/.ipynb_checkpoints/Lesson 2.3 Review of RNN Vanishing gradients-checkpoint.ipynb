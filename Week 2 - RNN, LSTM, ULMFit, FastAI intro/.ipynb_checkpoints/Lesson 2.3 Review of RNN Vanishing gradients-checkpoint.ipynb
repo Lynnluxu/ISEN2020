{
 "cells": [
  {
   "cell_type": "markdown",
   "metadata": {},
   "source": [
    "<h1 style='text-align: center; color: lightblue; font-size: 40px'> RNNs and LSTMs </h1>\n",
    "<h2 style='text-align: center; color: lightblue; font-size: 30px'> Vanishing Gradients </h2>"
   ]
  },
  {
   "cell_type": "markdown",
   "metadata": {},
   "source": [
    "### What you've all seen: <br />\n",
    "<img src=\"images/RNN-schema.png\"> </img>"
   ]
  },
  {
   "cell_type": "markdown",
   "metadata": {},
   "source": [
    "But you can also look at it that way: <br />\n",
    "<img src=\"images/RNN-schema2.png\"> </img>"
   ]
  },
  {
   "cell_type": "markdown",
   "metadata": {},
   "source": [
    "so output = layer2(layer1(input)) (to make things more manageable)\n",
    "\n",
    "then, following the chain rule:\n",
    "\n",
    "\\begin{equation}\n",
    "\\frac{d y}{d x}=\\frac{d y}{d u} \\cdot \\frac{d u}{d x}\n",
    "\\end{equation}"
   ]
  },
  {
   "cell_type": "markdown",
   "metadata": {},
   "source": [
    "\\begin{equation}\n",
    "\\frac{d error}{d input}=\\frac{d error}{d layer2} \\cdot \\frac{d layer2}{d layer1} \\cdot \\frac{d layer1}{d input}\n",
    "\\end{equation}"
   ]
  },
  {
   "cell_type": "markdown",
   "metadata": {},
   "source": [
    "### but what is in layer() ? \n",
    "<img src=\"images/RNN-cell.png\">"
   ]
  },
  {
   "cell_type": "markdown",
   "metadata": {},
   "source": [
    "so you can replace layer() by tanh(*other calculations*);\n",
    "\n",
    "and what is the derivative of tanh ?"
   ]
  },
  {
   "cell_type": "code",
   "execution_count": 1,
   "metadata": {},
   "outputs": [],
   "source": [
    "import torch\n",
    "import numpy as np \n",
    "import matplotlib.pyplot as plt"
   ]
  },
  {
   "cell_type": "code",
   "execution_count": 2,
   "metadata": {},
   "outputs": [],
   "source": [
    "x = np.arange(-7, 7, 0.0001)\n",
    "y = np.tanh(x)\n",
    "\n",
    "storage = []\n",
    "for val in x:\n",
    "    x_2 = torch.tensor(val, requires_grad=True)\n",
    "    y_2 = torch.tanh(x_2)\n",
    "    y_2.backward()\n",
    "    storage.append(x_2.grad)\n",
    "y2 = np.array(storage)"
   ]
  },
  {
   "cell_type": "code",
   "execution_count": 3,
   "metadata": {
    "scrolled": true
   },
   "outputs": [
    {
     "data": {
      "image/png": "[encoded data removed]",
      "text/plain": [
       "<Figure size 432x288 with 1 Axes>"
      ]
     },
     "metadata": {
      "needs_background": "light"
     },
     "output_type": "display_data"
    }
   ],
   "source": [
    "plt.plot(x, y)\n",
    "plt.plot(x, y2);"
   ]
  },
  {
   "cell_type": "markdown",
   "metadata": {},
   "source": [
    "### What happens when you multiply matrices that are < 1 ?"
   ]
  },
  {
   "cell_type": "code",
   "execution_count": 4,
   "metadata": {},
   "outputs": [
    {
     "name": "stdout",
     "output_type": "stream",
     "text": [
      "tensor(0.0196) tensor(-1.3370e-05)\n",
      "tensor(0.0017)\n",
      "tensor(-4.8265e-09)\n"
     ]
    },
    {
     "data": {
      "text/plain": [
       "(tensor(1.5597e-10), tensor(3.8766e-09), 12)"
      ]
     },
     "execution_count": 4,
     "metadata": {},
     "output_type": "execute_result"
    }
   ],
   "source": [
    "x = torch.randn(512)\n",
    "a = torch.randn(512,512) * 0.01\n",
    "\n",
    "print(x.mean(), a.mean())\n",
    "\n",
    "for i in range(100): \n",
    "    x = a @ x\n",
    "    if i%10 == 0:\n",
    "        print(x.mean())\n",
    "    if abs(x.mean()) < 0.000000001:\n",
    "        break\n",
    "\n",
    "\n",
    "x.mean(),x.std(), i"
   ]
  },
  {
   "cell_type": "markdown",
   "metadata": {},
   "source": []
  },
  {
   "cell_type": "markdown",
   "metadata": {},
   "source": [
    "### why doesn't it happen with LSTMs ? \n",
    "<img src=\"images/LSTMCELL.png\"> </img>\n",
    "<a href=\"http://colah.github.io/posts/2015-08-Understanding-LSTMs/\"> source </a>"
   ]
  },
  {
   "cell_type": "markdown",
   "metadata": {},
   "source": [
    "more info (in ascending order of difficulty):\n",
    "\n",
    "https://medium.com/datadriveninvestor/how-do-lstm-networks-solve-the-problem-of-vanishing-gradients-a6784971a577\n",
    "\n",
    "https://stats.stackexchange.com/questions/185639/how-does-lstm-prevent-the-vanishing-gradient-problem\n",
    "\n",
    "http://www.wildml.com/2015/10/recurrent-neural-networks-tutorial-part-3-backpropagation-through-time-and-vanishing-gradients/\n",
    "\n",
    "https://weberna.github.io/blog/2017/11/15/LSTM-Vanishing-Gradients.html"
   ]
  },
  {
   "cell_type": "code",
   "execution_count": 72,
   "metadata": {},
   "outputs": [],
   "source": [
    "import torch\n",
    "torch.nn.LSTMCell??"
   ]
  },
  {
   "cell_type": "markdown",
   "metadata": {},
   "source": [
    "\\begin{array}{ll}\n",
    "f = \\sigma(W_{if} x + b_{if} + W_{hf} h + b_{hf}) \\\\\n",
    "g = \\tanh(W_{ig} x + b_{ig} + W_{hg} h + b_{hg}) \\\\\n",
    "i = \\sigma(W_{ii} x + b_{ii} + W_{hi} h + b_{hi}) \\\\\n",
    "o = \\sigma(W_{io} x + b_{io} + W_{ho} h + b_{ho}) \\\\\n",
    "c' = f * c + i * g \\\\\n",
    "h' = o * \\tanh(c') \\\\\n",
    "\\end{array}\n",
    "\n",
    "where `\\sigma` is the sigmoid function, and `*` is the Hadamard product."
   ]
  },
  {
   "cell_type": "markdown",
   "metadata": {},
   "source": [
    "Wikipedia:\n",
    "\n",
    "In mathematics, the Hadamard product (also known as the element-wise, entrywise or Schur product) is a binary operation that takes two matrices of the same dimensions and produces another matrix of the same dimension as the operands where each element i, j is the product of elements i, j of the original two matrices."
   ]
  },
  {
   "cell_type": "markdown",
   "metadata": {},
   "source": [
    "# Note: interesting library for derivatives"
   ]
  },
  {
   "cell_type": "code",
   "execution_count": 73,
   "metadata": {},
   "outputs": [
    {
     "data": {
      "text/latex": [
       "$\\displaystyle 6 x$"
      ],
      "text/plain": [
       "6*x"
      ]
     },
     "execution_count": 73,
     "metadata": {},
     "output_type": "execute_result"
    }
   ],
   "source": [
    "from sympy import *\n",
    "x = Symbol('x')\n",
    "\n",
    "f = 3*x**2+5\n",
    "f_prime = f.diff(x)\n",
    "f_prime"
   ]
  },
  {
   "cell_type": "code",
   "execution_count": 74,
   "metadata": {},
   "outputs": [
    {
     "data": {
      "text/plain": [
       "32"
      ]
     },
     "execution_count": 74,
     "metadata": {},
     "output_type": "execute_result"
    }
   ],
   "source": [
    "f = lambdify(x, f)\n",
    "f_prime = lambdify(x, f_prime)\n",
    "# Let's test it out\n",
    "f(3)"
   ]
  },
  {
   "cell_type": "code",
   "execution_count": 75,
   "metadata": {},
   "outputs": [
    {
     "data": {
      "text/plain": [
       "18"
      ]
     },
     "execution_count": 75,
     "metadata": {},
     "output_type": "execute_result"
    }
   ],
   "source": [
    "f_prime(3)"
   ]
  }
 ],
 "metadata": {
  "kernelspec": {
   "display_name": "Python 3",
   "language": "python",
   "name": "python3"
  },
  "language_info": {
   "codemirror_mode": {
    "name": "ipython",
    "version": 3
   },
   "file_extension": ".py",
   "mimetype": "text/x-python",
   "name": "python",
   "nbconvert_exporter": "python",
   "pygments_lexer": "ipython3",
   "version": "3.7.4"
  }
 },
 "nbformat": 4,
 "nbformat_minor": 2
}
