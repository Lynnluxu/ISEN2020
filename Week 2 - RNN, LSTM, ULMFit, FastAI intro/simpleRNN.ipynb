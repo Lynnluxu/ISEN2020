{
  "nbformat": 4,
  "nbformat_minor": 0,
  "metadata": {
    "kernelspec": {
      "display_name": "tensorflow",
      "language": "python",
      "name": "tensorflow"
    },
    "language_info": {
      "codemirror_mode": {
        "name": "ipython",
        "version": 3
      },
      "file_extension": ".py",
      "mimetype": "text/x-python",
      "name": "python",
      "nbconvert_exporter": "python",
      "pygments_lexer": "ipython3",
      "version": "3.6.8"
    },
    "colab": {
      "name": "simpleRNN.ipynb",
      "provenance": []
    }
  },
  "cells": [
    {
      "cell_type": "code",
      "metadata": {
        "id": "-_Cnn7aqnam7",
        "colab_type": "code",
        "outputId": "5b3720db-9727-4e2b-a3b3-9927315965e7",
        "colab": {
          "base_uri": "https://localhost:8080/",
          "height": 80
        }
      },
      "source": [
        "import pandas as pd\n",
        "import numpy as np\n",
        "from keras.models import Sequential\n",
        "from keras.layers import Dense, SimpleRNN\n",
        "import matplotlib.pyplot as plt\n",
        "%matplotlib inline"
      ],
      "execution_count": 1,
      "outputs": [
        {
          "output_type": "stream",
          "text": [
            "Using TensorFlow backend.\n"
          ],
          "name": "stderr"
        },
        {
          "output_type": "display_data",
          "data": {
            "text/html": [
              "<p style=\"color: red;\">\n",
              "The default version of TensorFlow in Colab will soon switch to TensorFlow 2.x.<br>\n",
              "We recommend you <a href=\"https://www.tensorflow.org/guide/migrate\" target=\"_blank\">upgrade</a> now \n",
              "or ensure your notebook will continue to use TensorFlow 1.x via the <code>%tensorflow_version 1.x</code> magic:\n",
              "<a href=\"https://colab.research.google.com/notebooks/tensorflow_version.ipynb\" target=\"_blank\">more info</a>.</p>\n"
            ],
            "text/plain": [
              "<IPython.core.display.HTML object>"
            ]
          },
          "metadata": {
            "tags": []
          }
        }
      ]
    },
    {
      "cell_type": "code",
      "metadata": {
        "id": "J3l3_03PnanB",
        "colab_type": "code",
        "outputId": "799fc266-09e0-471e-f964-62ba40760b85",
        "colab": {
          "base_uri": "https://localhost:8080/",
          "height": 265
        }
      },
      "source": [
        "t = np.arange(0,1500)\n",
        "x = np.sin(0.02*t)+ np.random.rand(1500) * 2\n",
        "plt.plot(x)\n",
        "plt.show()"
      ],
      "execution_count": 2,
      "outputs": [
        {
          "output_type": "display_data",
          "data": {
            "image/png": "[encoded data removed]",
            "text/plain": [
              "<Figure size 432x288 with 1 Axes>"
            ]
          },
          "metadata": {
            "tags": []
          }
        }
      ]
    },
    {
      "cell_type": "code",
      "metadata": {
        "id": "gczL21M7nanG",
        "colab_type": "code",
        "colab": {}
      },
      "source": [
        "train,test = x[0:1000], x[1000:]"
      ],
      "execution_count": 0,
      "outputs": []
    },
    {
      "cell_type": "code",
      "metadata": {
        "id": "WWp3syU8nanJ",
        "colab_type": "code",
        "colab": {}
      },
      "source": [
        "step = 10\n",
        "\n",
        "# convert into dataset data and label\n",
        "def convertToDataset(data, step):\n",
        "    #data = np.append(data,np.repeat(data[-1,],step))\n",
        "    X, Y =[], []\n",
        "    for i in range(len(data)-step):\n",
        "        d=i+step  \n",
        "        X.append(data[i:d,])\n",
        "        Y.append(data[d,])\n",
        "    return np.array(X), np.array(Y)\n",
        "\n",
        "trainX,trainY =convertToDataset(train,step)\n",
        "testX,testY =convertToDataset(test,step)"
      ],
      "execution_count": 0,
      "outputs": []
    },
    {
      "cell_type": "code",
      "metadata": {
        "id": "MDAqJpyonanN",
        "colab_type": "code",
        "outputId": "40517db1-fa95-4ead-e09c-aee66532b638",
        "colab": {
          "base_uri": "https://localhost:8080/",
          "height": 51
        }
      },
      "source": [
        "print(trainX.shape)\n",
        "print(testX.shape)"
      ],
      "execution_count": 5,
      "outputs": [
        {
          "output_type": "stream",
          "text": [
            "(990, 10)\n",
            "(490, 10)\n"
          ],
          "name": "stdout"
        }
      ]
    },
    {
      "cell_type": "code",
      "metadata": {
        "id": "_zxIoW2LnanR",
        "colab_type": "code",
        "colab": {}
      },
      "source": [
        "trainX = np.reshape(trainX, (trainX.shape[0],  trainX.shape[1], 1))\n",
        "testX = np.reshape(testX, (testX.shape[0],testX.shape[1], 1))"
      ],
      "execution_count": 0,
      "outputs": []
    },
    {
      "cell_type": "code",
      "metadata": {
        "id": "za59wpdGnanT",
        "colab_type": "code",
        "outputId": "60d3f298-ffbb-474f-fe5f-ff33d83fc312",
        "colab": {
          "base_uri": "https://localhost:8080/",
          "height": 51
        }
      },
      "source": [
        "print(trainX.shape)\n",
        "print(testX.shape)"
      ],
      "execution_count": 7,
      "outputs": [
        {
          "output_type": "stream",
          "text": [
            "(990, 10, 1)\n",
            "(490, 10, 1)\n"
          ],
          "name": "stdout"
        }
      ]
    },
    {
      "cell_type": "code",
      "metadata": {
        "id": "6drgH19DnanW",
        "colab_type": "code",
        "colab": {
          "base_uri": "https://localhost:8080/",
          "height": 105
        },
        "outputId": "7d956508-2735-4da6-f699-e6b5a204159c"
      },
      "source": [
        "model = Sequential()\n",
        "model.add(SimpleRNN(units=64, activation=\"tanh\"))\n",
        "model.add(Dense(1))\n",
        "model.compile(loss='mean_squared_error', optimizer='rmsprop')"
      ],
      "execution_count": 8,
      "outputs": [
        {
          "output_type": "stream",
          "text": [
            "WARNING:tensorflow:From /usr/local/lib/python3.6/dist-packages/keras/backend/tensorflow_backend.py:66: The name tf.get_default_graph is deprecated. Please use tf.compat.v1.get_default_graph instead.\n",
            "\n",
            "WARNING:tensorflow:From /usr/local/lib/python3.6/dist-packages/keras/optimizers.py:793: The name tf.train.Optimizer is deprecated. Please use tf.compat.v1.train.Optimizer instead.\n",
            "\n"
          ],
          "name": "stdout"
        }
      ]
    },
    {
      "cell_type": "code",
      "metadata": {
        "id": "6MAsX6Sknana",
        "colab_type": "code",
        "outputId": "42555cc3-99a6-4b65-f95b-9bf4b39aa38f",
        "colab": {
          "base_uri": "https://localhost:8080/",
          "height": 1000
        }
      },
      "source": [
        "history = model.fit(trainX,trainY, epochs=100, batch_size=16, verbose=2)"
      ],
      "execution_count": 9,
      "outputs": [
        {
          "output_type": "stream",
          "text": [
            "WARNING:tensorflow:From /usr/local/lib/python3.6/dist-packages/keras/backend/tensorflow_backend.py:541: The name tf.placeholder is deprecated. Please use tf.compat.v1.placeholder instead.\n",
            "\n",
            "WARNING:tensorflow:From /usr/local/lib/python3.6/dist-packages/keras/backend/tensorflow_backend.py:4432: The name tf.random_uniform is deprecated. Please use tf.random.uniform instead.\n",
            "\n",
            "WARNING:tensorflow:From /usr/local/lib/python3.6/dist-packages/keras/backend/tensorflow_backend.py:1033: The name tf.assign_add is deprecated. Please use tf.compat.v1.assign_add instead.\n",
            "\n",
            "WARNING:tensorflow:From /usr/local/lib/python3.6/dist-packages/keras/backend/tensorflow_backend.py:1020: The name tf.assign is deprecated. Please use tf.compat.v1.assign instead.\n",
            "\n",
            "WARNING:tensorflow:From /usr/local/lib/python3.6/dist-packages/keras/backend/tensorflow_backend.py:3005: The name tf.Session is deprecated. Please use tf.compat.v1.Session instead.\n",
            "\n",
            "Epoch 1/100\n",
            "WARNING:tensorflow:From /usr/local/lib/python3.6/dist-packages/keras/backend/tensorflow_backend.py:190: The name tf.get_default_session is deprecated. Please use tf.compat.v1.get_default_session instead.\n",
            "\n",
            "WARNING:tensorflow:From /usr/local/lib/python3.6/dist-packages/keras/backend/tensorflow_backend.py:197: The name tf.ConfigProto is deprecated. Please use tf.compat.v1.ConfigProto instead.\n",
            "\n",
            "WARNING:tensorflow:From /usr/local/lib/python3.6/dist-packages/keras/backend/tensorflow_backend.py:207: The name tf.global_variables is deprecated. Please use tf.compat.v1.global_variables instead.\n",
            "\n",
            "WARNING:tensorflow:From /usr/local/lib/python3.6/dist-packages/keras/backend/tensorflow_backend.py:216: The name tf.is_variable_initialized is deprecated. Please use tf.compat.v1.is_variable_initialized instead.\n",
            "\n",
            "WARNING:tensorflow:From /usr/local/lib/python3.6/dist-packages/keras/backend/tensorflow_backend.py:223: The name tf.variables_initializer is deprecated. Please use tf.compat.v1.variables_initializer instead.\n",
            "\n",
            " - 1s - loss: 0.4926\n",
            "Epoch 2/100\n",
            " - 0s - loss: 0.4133\n",
            "Epoch 3/100\n",
            " - 0s - loss: 0.4011\n",
            "Epoch 4/100\n",
            " - 0s - loss: 0.3874\n",
            "Epoch 5/100\n",
            " - 0s - loss: 0.3901\n",
            "Epoch 6/100\n",
            " - 0s - loss: 0.3887\n",
            "Epoch 7/100\n",
            " - 0s - loss: 0.3877\n",
            "Epoch 8/100\n",
            " - 0s - loss: 0.3789\n",
            "Epoch 9/100\n",
            " - 0s - loss: 0.3765\n",
            "Epoch 10/100\n",
            " - 0s - loss: 0.3743\n",
            "Epoch 11/100\n",
            " - 0s - loss: 0.3764\n",
            "Epoch 12/100\n",
            " - 0s - loss: 0.3664\n",
            "Epoch 13/100\n",
            " - 0s - loss: 0.3650\n",
            "Epoch 14/100\n",
            " - 0s - loss: 0.3657\n",
            "Epoch 15/100\n",
            " - 0s - loss: 0.3637\n",
            "Epoch 16/100\n",
            " - 0s - loss: 0.3575\n",
            "Epoch 17/100\n",
            " - 0s - loss: 0.3583\n",
            "Epoch 18/100\n",
            " - 0s - loss: 0.3542\n",
            "Epoch 19/100\n",
            " - 0s - loss: 0.3512\n",
            "Epoch 20/100\n",
            " - 0s - loss: 0.3495\n",
            "Epoch 21/100\n",
            " - 0s - loss: 0.3508\n",
            "Epoch 22/100\n",
            " - 0s - loss: 0.3369\n",
            "Epoch 23/100\n",
            " - 0s - loss: 0.3404\n",
            "Epoch 24/100\n",
            " - 0s - loss: 0.3363\n",
            "Epoch 25/100\n",
            " - 0s - loss: 0.3393\n",
            "Epoch 26/100\n",
            " - 0s - loss: 0.3345\n",
            "Epoch 27/100\n",
            " - 0s - loss: 0.3288\n",
            "Epoch 28/100\n",
            " - 0s - loss: 0.3239\n",
            "Epoch 29/100\n",
            " - 0s - loss: 0.3263\n",
            "Epoch 30/100\n",
            " - 0s - loss: 0.3193\n",
            "Epoch 31/100\n",
            " - 0s - loss: 0.3158\n",
            "Epoch 32/100\n",
            " - 0s - loss: 0.3197\n",
            "Epoch 33/100\n",
            " - 0s - loss: 0.3161\n",
            "Epoch 34/100\n",
            " - 0s - loss: 0.3076\n",
            "Epoch 35/100\n",
            " - 0s - loss: 0.3062\n",
            "Epoch 36/100\n",
            " - 0s - loss: 0.3016\n",
            "Epoch 37/100\n",
            " - 0s - loss: 0.2963\n",
            "Epoch 38/100\n",
            " - 0s - loss: 0.2988\n",
            "Epoch 39/100\n",
            " - 0s - loss: 0.2906\n",
            "Epoch 40/100\n",
            " - 0s - loss: 0.2855\n",
            "Epoch 41/100\n",
            " - 0s - loss: 0.2870\n",
            "Epoch 42/100\n",
            " - 0s - loss: 0.2783\n",
            "Epoch 43/100\n",
            " - 0s - loss: 0.2808\n",
            "Epoch 44/100\n",
            " - 0s - loss: 0.2772\n",
            "Epoch 45/100\n",
            " - 0s - loss: 0.2687\n",
            "Epoch 46/100\n",
            " - 0s - loss: 0.2669\n",
            "Epoch 47/100\n",
            " - 0s - loss: 0.2616\n",
            "Epoch 48/100\n",
            " - 0s - loss: 0.2600\n",
            "Epoch 49/100\n",
            " - 0s - loss: 0.2521\n",
            "Epoch 50/100\n",
            " - 0s - loss: 0.2525\n",
            "Epoch 51/100\n",
            " - 0s - loss: 0.2542\n",
            "Epoch 52/100\n",
            " - 0s - loss: 0.2485\n",
            "Epoch 53/100\n",
            " - 0s - loss: 0.2443\n",
            "Epoch 54/100\n",
            " - 0s - loss: 0.2386\n",
            "Epoch 55/100\n",
            " - 0s - loss: 0.2330\n",
            "Epoch 56/100\n",
            " - 0s - loss: 0.2325\n",
            "Epoch 57/100\n",
            " - 0s - loss: 0.2289\n",
            "Epoch 58/100\n",
            " - 0s - loss: 0.2278\n",
            "Epoch 59/100\n",
            " - 0s - loss: 0.2237\n",
            "Epoch 60/100\n",
            " - 0s - loss: 0.2199\n",
            "Epoch 61/100\n",
            " - 0s - loss: 0.2107\n",
            "Epoch 62/100\n",
            " - 0s - loss: 0.2137\n",
            "Epoch 63/100\n",
            " - 0s - loss: 0.2076\n",
            "Epoch 64/100\n",
            " - 0s - loss: 0.2062\n",
            "Epoch 65/100\n",
            " - 0s - loss: 0.2015\n",
            "Epoch 66/100\n",
            " - 0s - loss: 0.1948\n",
            "Epoch 67/100\n",
            " - 0s - loss: 0.1930\n",
            "Epoch 68/100\n",
            " - 0s - loss: 0.1932\n",
            "Epoch 69/100\n",
            " - 0s - loss: 0.1815\n",
            "Epoch 70/100\n",
            " - 0s - loss: 0.1816\n",
            "Epoch 71/100\n",
            " - 0s - loss: 0.1789\n",
            "Epoch 72/100\n",
            " - 0s - loss: 0.1771\n",
            "Epoch 73/100\n",
            " - 0s - loss: 0.1689\n",
            "Epoch 74/100\n",
            " - 0s - loss: 0.1722\n",
            "Epoch 75/100\n",
            " - 0s - loss: 0.1635\n",
            "Epoch 76/100\n",
            " - 0s - loss: 0.1614\n",
            "Epoch 77/100\n",
            " - 0s - loss: 0.1545\n",
            "Epoch 78/100\n",
            " - 0s - loss: 0.1544\n",
            "Epoch 79/100\n",
            " - 0s - loss: 0.1514\n",
            "Epoch 80/100\n",
            " - 0s - loss: 0.1483\n",
            "Epoch 81/100\n",
            " - 0s - loss: 0.1415\n",
            "Epoch 82/100\n",
            " - 0s - loss: 0.1427\n",
            "Epoch 83/100\n",
            " - 0s - loss: 0.1377\n",
            "Epoch 84/100\n",
            " - 0s - loss: 0.1356\n",
            "Epoch 85/100\n",
            " - 0s - loss: 0.1325\n",
            "Epoch 86/100\n",
            " - 0s - loss: 0.1269\n",
            "Epoch 87/100\n",
            " - 0s - loss: 0.1272\n",
            "Epoch 88/100\n",
            " - 0s - loss: 0.1235\n",
            "Epoch 89/100\n",
            " - 0s - loss: 0.1194\n",
            "Epoch 90/100\n",
            " - 0s - loss: 0.1159\n",
            "Epoch 91/100\n",
            " - 0s - loss: 0.1167\n",
            "Epoch 92/100\n",
            " - 0s - loss: 0.1133\n",
            "Epoch 93/100\n",
            " - 0s - loss: 0.1085\n",
            "Epoch 94/100\n",
            " - 0s - loss: 0.1056\n",
            "Epoch 95/100\n",
            " - 0s - loss: 0.1021\n",
            "Epoch 96/100\n",
            " - 0s - loss: 0.1042\n",
            "Epoch 97/100\n",
            " - 0s - loss: 0.1007\n",
            "Epoch 98/100\n",
            " - 0s - loss: 0.0941\n",
            "Epoch 99/100\n",
            " - 0s - loss: 0.0978\n",
            "Epoch 100/100\n",
            " - 0s - loss: 0.0932\n"
          ],
          "name": "stdout"
        }
      ]
    },
    {
      "cell_type": "code",
      "metadata": {
        "id": "dYaxtEjDnand",
        "colab_type": "code",
        "outputId": "ce935093-ca59-4b09-cc43-7062c0833adc",
        "colab": {
          "base_uri": "https://localhost:8080/",
          "height": 265
        }
      },
      "source": [
        "import matplotlib.pyplot as plt\n",
        "%matplotlib inline\n",
        "\n",
        "loss = history.history['loss']\n",
        "plt.plot(loss, label='Training loss')\n",
        "plt.legend()\n",
        "\n",
        "plt.show()"
      ],
      "execution_count": 10,
      "outputs": [
        {
          "output_type": "display_data",
          "data": {
            "image/png": "[encoded data removed]",
            "text/plain": [
              "<Figure size 432x288 with 1 Axes>"
            ]
          },
          "metadata": {
            "tags": []
          }
        }
      ]
    },
    {
      "cell_type": "code",
      "metadata": {
        "id": "wHtv_Ydvnang",
        "colab_type": "code",
        "outputId": "aa847fc3-2dc5-4295-e750-1bdd65c0ad5b",
        "colab": {
          "base_uri": "https://localhost:8080/",
          "height": 34
        }
      },
      "source": [
        "trainScore = model.evaluate(trainX, trainY, verbose=0)\n",
        "print(trainScore)"
      ],
      "execution_count": 11,
      "outputs": [
        {
          "output_type": "stream",
          "text": [
            "0.08492502550585102\n"
          ],
          "name": "stdout"
        }
      ]
    },
    {
      "cell_type": "code",
      "metadata": {
        "id": "yZGpPG5vnanl",
        "colab_type": "code",
        "colab": {}
      },
      "source": [
        "trainPredict = model.predict(trainX)\n",
        "testPredict= model.predict(testX)\n",
        "predicted=np.concatenate((trainPredict,testPredict),axis=0)"
      ],
      "execution_count": 0,
      "outputs": []
    },
    {
      "cell_type": "code",
      "metadata": {
        "id": "COrHMlrznano",
        "colab_type": "code",
        "outputId": "225c6cda-579c-40f8-88fa-218010e6ba6f",
        "colab": {
          "base_uri": "https://localhost:8080/",
          "height": 265
        }
      },
      "source": [
        "plt.plot(x)\n",
        "plt.plot(predicted)\n",
        "plt.axvline(len(trainX), c=\"r\")\n",
        "plt.show()"
      ],
      "execution_count": 13,
      "outputs": [
        {
          "output_type": "display_data",
          "data": {
            "image/png": "[encoded data removed]",
            "text/plain": [
              "<Figure size 432x288 with 1 Axes>"
            ]
          },
          "metadata": {
            "tags": []
          }
        }
      ]
    },
    {
      "cell_type": "code",
      "metadata": {
        "id": "Mm21gRT1nanr",
        "colab_type": "code",
        "colab": {}
      },
      "source": [
        "testX,testY =convertToDataset(test,50)"
      ],
      "execution_count": 0,
      "outputs": []
    },
    {
      "cell_type": "code",
      "metadata": {
        "id": "pqVcnSuknant",
        "colab_type": "code",
        "outputId": "74714031-b5a8-44fe-b19e-243a7e3ee301",
        "colab": {
          "base_uri": "https://localhost:8080/",
          "height": 34
        }
      },
      "source": [
        "testX = np.reshape(testX, (testX.shape[0],testX.shape[1], 1))\n",
        "testX.shape"
      ],
      "execution_count": 15,
      "outputs": [
        {
          "output_type": "execute_result",
          "data": {
            "text/plain": [
              "(450, 50, 1)"
            ]
          },
          "metadata": {
            "tags": []
          },
          "execution_count": 15
        }
      ]
    },
    {
      "cell_type": "code",
      "metadata": {
        "id": "E70HU6ABnanw",
        "colab_type": "code",
        "outputId": "d6f5817f-23f3-419f-b8a3-b40d925639d9",
        "colab": {
          "base_uri": "https://localhost:8080/",
          "height": 311
        }
      },
      "source": [
        "testPredict= model.predict(testX)\n"
      ],
      "execution_count": 16,
      "outputs": [
        {
          "output_type": "error",
          "ename": "ValueError",
          "evalue": "ignored",
          "traceback": [
            "\u001b[0;31m---------------------------------------------------------------------------\u001b[0m",
            "\u001b[0;31mValueError\u001b[0m                                Traceback (most recent call last)",
            "\u001b[0;32m<ipython-input-16-1d6f8f837b95>\u001b[0m in \u001b[0;36m<module>\u001b[0;34m()\u001b[0m\n\u001b[0;32m----> 1\u001b[0;31m \u001b[0mtestPredict\u001b[0m\u001b[0;34m=\u001b[0m \u001b[0mmodel\u001b[0m\u001b[0;34m.\u001b[0m\u001b[0mpredict\u001b[0m\u001b[0;34m(\u001b[0m\u001b[0mtestX\u001b[0m\u001b[0;34m)\u001b[0m\u001b[0;34m\u001b[0m\u001b[0;34m\u001b[0m\u001b[0m\n\u001b[0m",
            "\u001b[0;32m/usr/local/lib/python3.6/dist-packages/keras/engine/training.py\u001b[0m in \u001b[0;36mpredict\u001b[0;34m(self, x, batch_size, verbose, steps, callbacks, max_queue_size, workers, use_multiprocessing)\u001b[0m\n\u001b[1;32m   1378\u001b[0m \u001b[0;34m\u001b[0m\u001b[0m\n\u001b[1;32m   1379\u001b[0m         \u001b[0;31m# Case 2: Symbolic tensors or Numpy array-like.\u001b[0m\u001b[0;34m\u001b[0m\u001b[0;34m\u001b[0m\u001b[0;34m\u001b[0m\u001b[0m\n\u001b[0;32m-> 1380\u001b[0;31m         \u001b[0mx\u001b[0m\u001b[0;34m,\u001b[0m \u001b[0m_\u001b[0m\u001b[0;34m,\u001b[0m \u001b[0m_\u001b[0m \u001b[0;34m=\u001b[0m \u001b[0mself\u001b[0m\u001b[0;34m.\u001b[0m\u001b[0m_standardize_user_data\u001b[0m\u001b[0;34m(\u001b[0m\u001b[0mx\u001b[0m\u001b[0;34m)\u001b[0m\u001b[0;34m\u001b[0m\u001b[0;34m\u001b[0m\u001b[0m\n\u001b[0m\u001b[1;32m   1381\u001b[0m         \u001b[0;32mif\u001b[0m \u001b[0mself\u001b[0m\u001b[0;34m.\u001b[0m\u001b[0mstateful\u001b[0m\u001b[0;34m:\u001b[0m\u001b[0;34m\u001b[0m\u001b[0;34m\u001b[0m\u001b[0m\n\u001b[1;32m   1382\u001b[0m             \u001b[0;32mif\u001b[0m \u001b[0mx\u001b[0m\u001b[0;34m[\u001b[0m\u001b[0;36m0\u001b[0m\u001b[0;34m]\u001b[0m\u001b[0;34m.\u001b[0m\u001b[0mshape\u001b[0m\u001b[0;34m[\u001b[0m\u001b[0;36m0\u001b[0m\u001b[0;34m]\u001b[0m \u001b[0;34m>\u001b[0m \u001b[0mbatch_size\u001b[0m \u001b[0;32mand\u001b[0m \u001b[0mx\u001b[0m\u001b[0;34m[\u001b[0m\u001b[0;36m0\u001b[0m\u001b[0;34m]\u001b[0m\u001b[0;34m.\u001b[0m\u001b[0mshape\u001b[0m\u001b[0;34m[\u001b[0m\u001b[0;36m0\u001b[0m\u001b[0;34m]\u001b[0m \u001b[0;34m%\u001b[0m \u001b[0mbatch_size\u001b[0m \u001b[0;34m!=\u001b[0m \u001b[0;36m0\u001b[0m\u001b[0;34m:\u001b[0m\u001b[0;34m\u001b[0m\u001b[0;34m\u001b[0m\u001b[0m\n",
            "\u001b[0;32m/usr/local/lib/python3.6/dist-packages/keras/engine/training.py\u001b[0m in \u001b[0;36m_standardize_user_data\u001b[0;34m(self, x, y, sample_weight, class_weight, check_array_lengths, batch_size)\u001b[0m\n\u001b[1;32m    755\u001b[0m             \u001b[0mfeed_input_shapes\u001b[0m\u001b[0;34m,\u001b[0m\u001b[0;34m\u001b[0m\u001b[0;34m\u001b[0m\u001b[0m\n\u001b[1;32m    756\u001b[0m             \u001b[0mcheck_batch_axis\u001b[0m\u001b[0;34m=\u001b[0m\u001b[0;32mFalse\u001b[0m\u001b[0;34m,\u001b[0m  \u001b[0;31m# Don't enforce the batch size.\u001b[0m\u001b[0;34m\u001b[0m\u001b[0;34m\u001b[0m\u001b[0m\n\u001b[0;32m--> 757\u001b[0;31m             exception_prefix='input')\n\u001b[0m\u001b[1;32m    758\u001b[0m \u001b[0;34m\u001b[0m\u001b[0m\n\u001b[1;32m    759\u001b[0m         \u001b[0;32mif\u001b[0m \u001b[0my\u001b[0m \u001b[0;32mis\u001b[0m \u001b[0;32mnot\u001b[0m \u001b[0;32mNone\u001b[0m\u001b[0;34m:\u001b[0m\u001b[0;34m\u001b[0m\u001b[0;34m\u001b[0m\u001b[0m\n",
            "\u001b[0;32m/usr/local/lib/python3.6/dist-packages/keras/engine/training_utils.py\u001b[0m in \u001b[0;36mstandardize_input_data\u001b[0;34m(data, names, shapes, check_batch_axis, exception_prefix)\u001b[0m\n\u001b[1;32m    139\u001b[0m                             \u001b[0;34m': expected '\u001b[0m \u001b[0;34m+\u001b[0m \u001b[0mnames\u001b[0m\u001b[0;34m[\u001b[0m\u001b[0mi\u001b[0m\u001b[0;34m]\u001b[0m \u001b[0;34m+\u001b[0m \u001b[0;34m' to have shape '\u001b[0m \u001b[0;34m+\u001b[0m\u001b[0;34m\u001b[0m\u001b[0;34m\u001b[0m\u001b[0m\n\u001b[1;32m    140\u001b[0m                             \u001b[0mstr\u001b[0m\u001b[0;34m(\u001b[0m\u001b[0mshape\u001b[0m\u001b[0;34m)\u001b[0m \u001b[0;34m+\u001b[0m \u001b[0;34m' but got array with shape '\u001b[0m \u001b[0;34m+\u001b[0m\u001b[0;34m\u001b[0m\u001b[0;34m\u001b[0m\u001b[0m\n\u001b[0;32m--> 141\u001b[0;31m                             str(data_shape))\n\u001b[0m\u001b[1;32m    142\u001b[0m     \u001b[0;32mreturn\u001b[0m \u001b[0mdata\u001b[0m\u001b[0;34m\u001b[0m\u001b[0;34m\u001b[0m\u001b[0m\n\u001b[1;32m    143\u001b[0m \u001b[0;34m\u001b[0m\u001b[0m\n",
            "\u001b[0;31mValueError\u001b[0m: Error when checking input: expected sequential_1_input to have shape (10, 1) but got array with shape (50, 1)"
          ]
        }
      ]
    },
    {
      "cell_type": "code",
      "metadata": {
        "id": "I3Ybq9SYnanz",
        "colab_type": "code",
        "outputId": "31fb73b9-40d6-448d-b97c-efa69e3499b1",
        "colab": {
          "base_uri": "https://localhost:8080/",
          "height": 34
        }
      },
      "source": [
        "model.input"
      ],
      "execution_count": 17,
      "outputs": [
        {
          "output_type": "execute_result",
          "data": {
            "text/plain": [
              "<tf.Tensor 'sequential_1_input:0' shape=(?, 10, 1) dtype=float32>"
            ]
          },
          "metadata": {
            "tags": []
          },
          "execution_count": 17
        }
      ]
    }
  ]
}